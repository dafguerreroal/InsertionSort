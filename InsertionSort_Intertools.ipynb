{
 "cells": [
  {
   "cell_type": "code",
   "execution_count": 6,
   "metadata": {},
   "outputs": [
    {
     "name": "stdout",
     "output_type": "stream",
     "text": [
      "Número de Permutaciones Posibles:\n",
      "120\n"
     ]
    },
    {
     "data": {
      "image/png": "[encoded data removed]",
      "text/plain": [
       "<Figure size 432x288 with 1 Axes>"
      ]
     },
     "metadata": {},
     "output_type": "display_data"
    },
    {
     "name": "stdout",
     "output_type": "stream",
     "text": [
      "Número Medio de Pasos: \n",
      "36\n"
     ]
    },
    {
     "data": {
      "image/png": "[encoded data removed]",
      "text/plain": [
       "<Figure size 432x288 with 1 Axes>"
      ]
     },
     "metadata": {},
     "output_type": "display_data"
    },
    {
     "name": "stdout",
     "output_type": "stream",
     "text": [
      "Número Medio de Pasos: \n",
      "9\n"
     ]
    },
    {
     "data": {
      "image/png": "[encoded data removed]",
      "text/plain": [
       "<Figure size 432x288 with 1 Axes>"
      ]
     },
     "metadata": {},
     "output_type": "display_data"
    },
    {
     "name": "stdout",
     "output_type": "stream",
     "text": [
      "Número Medio de Pasos: \n",
      "5\n"
     ]
    }
   ],
   "source": [
    "import pylab as pl\n",
    "import itertools\n",
    "import math\n",
    "import statistics\n",
    "\n",
    "def insertionSortSt(array):\n",
    "    steps = 0\n",
    "    compa = 0\n",
    "    swaps = 0\n",
    "    \n",
    "    for i in range(1,len(array)):   \n",
    "        aux = array[i]\n",
    "        j = i - 1        \n",
    "        while j > -1 and aux < array[j]:\n",
    "            compa += 1\n",
    "            array[j + 1] = array[j]\n",
    "            swaps += 1\n",
    "            steps += 3        \n",
    "            j = j - 1\n",
    "                      \n",
    "        steps += 1\n",
    "        array[j + 1] = aux\n",
    "        steps += 4\n",
    "        \n",
    "        if j != i:\n",
    "            compa += 1\n",
    "    \n",
    "    steps += 1\n",
    "    \n",
    "    arrayComp = [steps,compa,swaps]\n",
    "    return arrayComp\n",
    "    #print(nadeshiko)\n",
    "\n",
    "#B = [5, 4, 6, 3, 7, 2, 8, 1, 9]\n",
    "#print(B)\n",
    "#insertionSortSt(B)\n",
    "#print(B)\n",
    "\n",
    "#n= int(raw_input())\n",
    "n= 5\n",
    "listaPerm=[]\n",
    "arrSteps=[]\n",
    "arrCompa=[]\n",
    "arrSwaps=[]\n",
    "medSteps = 0\n",
    "medComp = 0\n",
    "medSwaps = 0\n",
    "\n",
    "#Lista de Permutaciones de un Arreglo de 0 a n.\n",
    "for i in range(n):\n",
    "    listaPerm.append(i)\n",
    "permutations = (list(itertools.permutations(listaPerm)))\n",
    "\n",
    "#print(permutations)\n",
    "print(\"Número de Permutaciones Posibles:\")\n",
    "print(len(permutations))\n",
    "\n",
    "#Para cada permutación, ordena y separa el conteo de pasos realizados para cada caso.\n",
    "for perm in permutations:\n",
    "    conteo = insertionSortSt(list(perm))\n",
    "    #print(conteo)\n",
    "    arrSteps.append(conteo[0])\n",
    "    arrCompa.append(conteo[1])\n",
    "    arrSwaps.append(conteo[2])\n",
    "    \n",
    "medSteps = statistics.mean(arrSteps)\n",
    "medCompa = statistics.mean(arrCompa)\n",
    "medSwaps = statistics.mean(arrSwaps)\n",
    "\n",
    "#Grafica un histograma para cada caso de Complejidad.\n",
    "pl.hist(arrSteps, bins='auto')\n",
    "pl.title(\"Histograma Steps\")\n",
    "pl.show()\n",
    "print(\"Número Medio de Pasos: \")\n",
    "print(medSteps)\n",
    "\n",
    "pl.hist(arrCompa, bins='auto')\n",
    "pl.title(\"Histograma Comparisons\")\n",
    "pl.show()\n",
    "print(\"Número Medio de Pasos: \")\n",
    "print(medCompa)\n",
    "\n",
    "pl.hist(arrSwaps, bins='auto')\n",
    "pl.title(\"Histograma Swaps\")\n",
    "pl.show()\n",
    "print(\"Número Medio de Pasos: \")\n",
    "print(medSwaps)"
   ]
  },
  {
   "cell_type": "code",
   "execution_count": null,
   "metadata": {},
   "outputs": [],
   "source": []
  }
 ],
 "metadata": {
  "kernelspec": {
   "display_name": "Python 3",
   "language": "python",
   "name": "python3"
  },
  "language_info": {
   "codemirror_mode": {
    "name": "ipython",
    "version": 3
   },
   "file_extension": ".py",
   "mimetype": "text/x-python",
   "name": "python",
   "nbconvert_exporter": "python",
   "pygments_lexer": "ipython3",
   "version": "3.6.5"
  }
 },
 "nbformat": 4,
 "nbformat_minor": 2
}
